{
  "nbformat": 4,
  "nbformat_minor": 0,
  "metadata": {
    "colab": {
      "name": "DE112_Lab4_Jakkrin",
      "provenance": [],
      "collapsed_sections": [
        "4IGVCE-mMvc4"
      ],
      "toc_visible": true
    },
    "kernelspec": {
      "name": "python3",
      "display_name": "Python 3"
    },
    "language_info": {
      "name": "python"
    }
  },
  "cells": [
    {
      "cell_type": "markdown",
      "metadata": {
        "id": "4IGVCE-mMvc4"
      },
      "source": [
        "# If statement\n",
        "\n",
        "Objectives:\n",
        "\n",
        "1. Learn how to use if statement.\n"
      ]
    },
    {
      "cell_type": "markdown",
      "metadata": {
        "id": "RoXM503b3ki2"
      },
      "source": [
        "In python, if statement is used for decision-making. That is \n",
        "\n",
        "    if <condition>:\n",
        "       <statement1>\n",
        "       <statement2>\n"
      ]
    },
    {
      "cell_type": "code",
      "metadata": {
        "colab": {
          "base_uri": "https://localhost:8080/"
        },
        "id": "t2-0OSWQ76eD",
        "outputId": "72ed2673-810c-447b-ea80-88b5ab150a2e"
      },
      "source": [
        "a = 20\n",
        "b = 30\n",
        "if a>b:\n",
        "  print('a is greater than b')\t\n",
        "print('Done')"
      ],
      "execution_count": null,
      "outputs": [
        {
          "output_type": "stream",
          "text": [
            "Done\n"
          ],
          "name": "stdout"
        }
      ]
    },
    {
      "cell_type": "markdown",
      "metadata": {
        "id": "lpjUjmrY4xWU"
      },
      "source": [
        "**Exercise#**: modify the above code to a = 40 and run it to observe the result "
      ]
    },
    {
      "cell_type": "markdown",
      "metadata": {
        "id": "TwWjK1EKMtj4"
      },
      "source": [
        "Two optional components in if statement are\n",
        "\n",
        "1. else: the code inside else will be executed if <condition> is not met.\n",
        "\n",
        "        if <condition>:\n",
        "          <statement1>\n",
        "          <statement2>\n",
        "        else:\n",
        "          <statement3>\n",
        "          <statement4>\n",
        "\n",
        "        if ( a > b):\n",
        "          abs_ = a - b\n",
        "        else:\n",
        "          abs_ = b - a        \n",
        "        print(‘absolute(a-b) =‘,abs_)\n",
        "\n",
        "2. elif: the code inside elif will be executed if <condition_elif> is not met.\n",
        "(multiple elif )\n",
        "        if <condition_if>:\n",
        "          <statement1>\n",
        "          <statement2>\n",
        "        elif <condition_elif>:\n",
        "          <statement3>\n",
        "          <statement4>\n",
        "        else:\n",
        "          <statement5>\n",
        "          <statement6>\n",
        "          \n",
        "        if ( a > b):\n",
        "          abs_ = a - b\n",
        "        elif (a==b):\n",
        "          abs_ = 0\n",
        "        else:\n",
        "          abs_ = b - a\n",
        "        \n",
        "        print(‘absolute(a-b) =‘,abs_)"
      ]
    },
    {
      "cell_type": "code",
      "metadata": {
        "id": "ZZKfK44N6wnZ"
      },
      "source": [
        "if (a > b):\n",
        "  print(a - b)"
      ],
      "execution_count": null,
      "outputs": []
    },
    {
      "cell_type": "code",
      "metadata": {
        "colab": {
          "base_uri": "https://localhost:8080/"
        },
        "id": "9c1M3Ovh9KuL",
        "outputId": "6b3b11ab-da4d-4699-d200-932238bd1e0a"
      },
      "source": [
        "a = 20;b=10\n",
        "if ( a > b):\n",
        "  abs_ = a - b\n",
        "else:\n",
        "  abs_ = b - a        \n",
        "print('absolute(a-b) =',abs_)"
      ],
      "execution_count": null,
      "outputs": [
        {
          "output_type": "stream",
          "text": [
            "absolute(a-b) = 10\n"
          ],
          "name": "stdout"
        }
      ]
    },
    {
      "cell_type": "code",
      "metadata": {
        "colab": {
          "base_uri": "https://localhost:8080/"
        },
        "id": "B4PDtLOe6Y8x",
        "outputId": "6728c787-dbf5-4480-92f1-bcf55edbc1d5"
      },
      "source": [
        "a = 20;b=30\n",
        "if (a > b):\n",
        "  abs_= a - b\n",
        "elif (a==b):\n",
        "  abs_ = 0\n",
        "else:\n",
        "  abs_ = b - a\n",
        " \n",
        "print('absolute(a-b) =',abs_)"
      ],
      "execution_count": null,
      "outputs": [
        {
          "output_type": "stream",
          "text": [
            "absolute(a-b) = 10\n"
          ],
          "name": "stdout"
        }
      ]
    },
    {
      "cell_type": "markdown",
      "metadata": {
        "id": "DmtgmPHh8RxW"
      },
      "source": [
        "**pass statement**: In Python, we use the pass statement when we need a particular loop, class, or function in our program, but don’t know what goes in it.\n",
        "- It is a null statement. The interpreter does not ignore it, but it performs a no-operation (NOP).\n",
        "\n"
      ]
    },
    {
      "cell_type": "code",
      "metadata": {
        "colab": {
          "base_uri": "https://localhost:8080/"
        },
        "id": "lWKH0MT18-2v",
        "outputId": "f9350176-8be5-4713-8178-d737f448d1a0"
      },
      "source": [
        "a = 21\n",
        "if (a %2 ==0):\n",
        "  print(a,' is even number')\n",
        "elif (a %3 ==0):\n",
        "  pass\n",
        "else:\n",
        "  print('None of the above')\n",
        "print('If statement has finished.')"
      ],
      "execution_count": null,
      "outputs": [
        {
          "output_type": "stream",
          "text": [
            "If statement has finished.\n"
          ],
          "name": "stdout"
        }
      ]
    },
    {
      "cell_type": "markdown",
      "metadata": {
        "id": "t59oGid1-EOe"
      },
      "source": [
        "# Conditions in if-statement\n",
        "The condition in if statement is a Boolean expression. Usually it composes of \n",
        "1. Logical operators (not, and, or) and\n",
        "2. Relational operators (>,<,==,!=, >=, <=)"
      ]
    },
    {
      "cell_type": "code",
      "metadata": {
        "colab": {
          "base_uri": "https://localhost:8080/"
        },
        "id": "IQD_yJxrhF25",
        "outputId": "f2d99432-8f99-4988-b990-74eaee6b3c3a"
      },
      "source": [
        "a = 15 \n",
        "if (a % 2 !=0):\n",
        "  print(a,'is an odd number')"
      ],
      "execution_count": null,
      "outputs": [
        {
          "output_type": "stream",
          "text": [
            "15 is an odd number\n"
          ],
          "name": "stdout"
        }
      ]
    },
    {
      "cell_type": "code",
      "metadata": {
        "colab": {
          "base_uri": "https://localhost:8080/"
        },
        "id": "-8VOIBLD_LwA",
        "outputId": "0cc4980b-13d3-407e-a702-a35c55c72ccd"
      },
      "source": [
        "a = 16 \n",
        "if (a % 3 !=0):\n",
        "  print(a,'is not divisible by 3')"
      ],
      "execution_count": null,
      "outputs": [
        {
          "output_type": "stream",
          "text": [
            "16 is not divisible by 3\n"
          ],
          "name": "stdout"
        }
      ]
    },
    {
      "cell_type": "code",
      "metadata": {
        "colab": {
          "base_uri": "https://localhost:8080/"
        },
        "id": "RtYZEZhk_kYA",
        "outputId": "87535668-00cf-4a3a-f5b7-15827638b9e9"
      },
      "source": [
        "a = 16;b = 14 \n",
        "if (a % 2 ==0) and (b % 2 ==0):\n",
        "  print('2 is a commmon divisor of', a, 'and',b)"
      ],
      "execution_count": null,
      "outputs": [
        {
          "output_type": "stream",
          "text": [
            "2 is a commmon divisor of 16 and 14\n"
          ],
          "name": "stdout"
        }
      ]
    },
    {
      "cell_type": "code",
      "source": [],
      "metadata": {
        "id": "rh_qB0kSRgP4"
      },
      "execution_count": null,
      "outputs": []
    },
    {
      "cell_type": "markdown",
      "source": [
        "#Example 1 (2.5pt) : เด็กส่วนสูงไม่เกิน 120 cm ทานฟรี"
      ],
      "metadata": {
        "id": "rg_Qmkb6M2bx"
      }
    },
    {
      "cell_type": "code",
      "source": [
        "height = input('Enter customer height (in cm): ')\n",
        "height = int(height)\n",
        "if height <= 120:\n",
        "  print('You get to eat for free')\n",
        "else :\n",
        "  print('Pay the full price bi%$h')"
      ],
      "metadata": {
        "id": "b4ZGtpqvNKH4",
        "colab": {
          "base_uri": "https://localhost:8080/"
        },
        "outputId": "f38a6009-a26b-45a5-ca62-0daf3a776973"
      },
      "execution_count": null,
      "outputs": [
        {
          "output_type": "stream",
          "name": "stdout",
          "text": [
            "Enter customer height (in cm): 115\n",
            "You get to eat for free\n"
          ]
        }
      ]
    },
    {
      "cell_type": "markdown",
      "source": [
        "#Example 2 2.5(pt):\n",
        "![image.png](data:image/png;base64,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)"
      ],
      "metadata": {
        "id": "9yraR-OnM3mf"
      }
    },
    {
      "cell_type": "code",
      "execution_count": null,
      "metadata": {
        "id": "n6g1rlSQLTWi",
        "colab": {
          "base_uri": "https://localhost:8080/"
        },
        "outputId": "81e6172c-e54e-4ea5-c610-002284729275"
      },
      "outputs": [
        {
          "output_type": "stream",
          "name": "stdout",
          "text": [
            "Enter customer height (in cm): 101\n",
            "You have to pay 225 bath\n"
          ]
        }
      ],
      "source": [
        "height = input('Enter customer height (in cm): ')\n",
        "height = int(height)\n",
        "if height < 100:\n",
        "  print('You have to pay 115 bath')\n",
        "elif height > 100 and height < 120:\n",
        "  print('You have to pay 225 bath')\n",
        "else :\n",
        "  print('You have to pay 449 bath')\n",
        "print('Thank you for visiting')"
      ]
    },
    {
      "cell_type": "markdown",
      "source": [
        "#Example 3:\n",
        "![image.png](data:image/png;base64,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)"
      ],
      "metadata": {
        "id": "_g4ckM8eMmGn"
      }
    },
    {
      "cell_type": "code",
      "source": [
        "net_income = input('Enter your net income: ')\n",
        "net_income = int(net_income)\n",
        "if net_income <= 150000:\n",
        "  print('You pay no taxes')\n",
        "elif net_income > 150000 and net_income <= 300000:\n",
        "  print('You have to pay',((net_income-150000)*(5/100)))\n",
        "elif net_income > 300000 and net_income <= 500000:\n",
        "  print('You have to pay',((net_income-300000)*(10/100))+7500)\n",
        "elif net_income > 500000 and net_income <= 750000:\n",
        "  print('You have to pay',((net_income-500000)*(15/100))+27500)\n",
        "elif net_income > 750000 and net_income <= 1000000:\n",
        "  print('You have to pay',((net_income-750000)*(20/100))+65000)\n",
        "elif net_income > 1000000 and net_income <= 2000000:\n",
        "  print('You have to pay',((net_income-1000000)*(25/100))+115000)\n",
        "elif net_income > 2000000 and net_income <= 5000000:\n",
        "  print('You have to pay',((net_income-2000000)*(30/100))+365000)\n",
        "elif net_income >= 6000000:\n",
        "  print('You have to pay',((net_income-5000000)*(35/100)+1265000))\n",
        "else:\n",
        "  print('Are u mad bruv?')\n",
        "print('Your money will not go to waste lol')"
      ],
      "metadata": {
        "id": "8-xKYlMmNs8f",
        "colab": {
          "base_uri": "https://localhost:8080/"
        },
        "outputId": "5c701a07-fb66-4ad8-8d2b-4bfbb5b785c9"
      },
      "execution_count": null,
      "outputs": [
        {
          "output_type": "stream",
          "name": "stdout",
          "text": [
            "Enter your net income: 6000000\n",
            "You have to pay 1615000.0\n",
            "Your money will not go to waste lol\n"
          ]
        }
      ]
    },
    {
      "cell_type": "markdown",
      "source": [
        "#Example 4:\n",
        "![image.png](data:image/png;base64,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)"
      ],
      "metadata": {
        "id": "Yboa9LDQNhjZ"
      }
    },
    {
      "cell_type": "code",
      "source": [
        "height = int(input('Enter your height: '))\n",
        "day = input('Is today a weekend? ')\n",
        "meal = input('Lunch or Dinner? ')\n",
        "if day == 'Yes':\n",
        "  if height >= 100 and  height <= 140:\n",
        "     print('You have to pay 550++')\n",
        "  else :\n",
        "     print('You have to pay 1099++')\n",
        "else :\n",
        "  if meal == 'Lunch' :\n",
        "    if height >= 100 and  height <= 140:\n",
        "      print('You have to pay 400++') \n",
        "    else :\n",
        "      print('You have to pay 799++')\n",
        "  elif meal == 'Dinner' :\n",
        "    if height >= 100 and  height <= 140:\n",
        "      print('You have to pay 450++') \n",
        "    else :\n",
        "      print('You have to pay 899++')"
      ],
      "metadata": {
        "id": "kzjScewLBPYA",
        "colab": {
          "base_uri": "https://localhost:8080/"
        },
        "outputId": "324c8ff7-dc96-45ea-9286-c0e606dd6e0c"
      },
      "execution_count": null,
      "outputs": [
        {
          "output_type": "stream",
          "name": "stdout",
          "text": [
            "Enter your height: 200\n",
            "Is today a holiday: No\n",
            "Lunch or Dinner? Dinner\n",
            "You have to pay 899\n"
          ]
        }
      ]
    },
    {
      "cell_type": "markdown",
      "metadata": {
        "id": "GcJrwOwX_9HF"
      },
      "source": [
        "# Question 1 (1 pt)"
      ]
    },
    {
      "cell_type": "markdown",
      "metadata": {
        "id": "TqCL50HUAJLH"
      },
      "source": [
        "\n",
        "1. Take two numbers from user and print out the result whether the sum of the two number are greater than 10 and the difference are less then 5.\n",
        "\n",
        "**Examples:**\n",
        "```\n",
        "First number: 12\n",
        "Second number: 15\n",
        "\n",
        "the sum of the two number are greater than 10 and the difference are less then 5.\n",
        "```\n",
        "```\n",
        "First number: 0\n",
        "Second number: 115\n",
        "\n",
        "The difference are not less then 5.\n",
        "```\n",
        "\n",
        "\n"
      ]
    },
    {
      "cell_type": "code",
      "source": [
        "First = int(input('First number :'))\n",
        "Second = int(input('Second number :'))\n",
        "sum = First+Second\n",
        "diff = abs(First-Second)\n",
        "if sum > 10:\n",
        "  if diff < 5:\n",
        "    print('the sum of the two number are greater than 10 and the difference are less then 5.')\n",
        "  else:\n",
        "    print('the sum of the two number are greater than 10 and the difference are more then 5.')\n",
        "elif sum <= 10:\n",
        "  if diff < 5:\n",
        "    print('the sum of the two number are less than 10 and the difference are less then 5.')\n",
        "  else:\n",
        "    print('the sum of the two number are less than 10 and the difference are more then 5.')\n"
      ],
      "metadata": {
        "colab": {
          "base_uri": "https://localhost:8080/"
        },
        "id": "YfyIyj_x7rcZ",
        "outputId": "d5c201e6-8a5e-4278-d075-4cdc16fbc584"
      },
      "execution_count": null,
      "outputs": [
        {
          "output_type": "stream",
          "name": "stdout",
          "text": [
            "First number :10\n",
            "Second number :15\n",
            "the sum of the two number are greater than 10 and the difference are more then 5.\n"
          ]
        }
      ]
    },
    {
      "cell_type": "markdown",
      "metadata": {
        "id": "k68Uo7UvCGBK"
      },
      "source": [
        "# Question 2 (1 pt)"
      ]
    },
    {
      "cell_type": "markdown",
      "metadata": {
        "id": "C-voFqWsuMc7"
      },
      "source": [
        "\n",
        "4. Take passing mark and student mark as input and print out whether a student passed the exam\n",
        "**Examples:**\n",
        "```\n",
        "Passing mark: 50\n",
        "student mark: 50\n",
        "\n",
        "The student passed the exam.\n",
        "```\n",
        "```\n",
        "Passing mark: 90\n",
        "student mark: 89\n",
        "\n",
        "The student failed the exam.\n",
        "```"
      ]
    },
    {
      "cell_type": "code",
      "source": [
        "Mark,Pass = (input('Enter your score nad passing mark: ')).split()\n",
        "Mark = int(Mark)\n",
        "Pass = int(Pass)\n",
        "if Mark >= Pass:\n",
        "  print('The student passed the exam.')\n",
        "else:\n",
        "  print('The student failed the exam.')\n"
      ],
      "metadata": {
        "colab": {
          "base_uri": "https://localhost:8080/"
        },
        "id": "fkDkfQ0AJ2JT",
        "outputId": "b5d585f6-c8cc-4c96-b390-92e66d796948"
      },
      "execution_count": null,
      "outputs": [
        {
          "output_type": "stream",
          "name": "stdout",
          "text": [
            "Enter your score nad passing mark: 49 50\n",
            "The student failed the exam.\n"
          ]
        }
      ]
    },
    {
      "cell_type": "markdown",
      "metadata": {
        "id": "eSijdIABA1Zr"
      },
      "source": [
        "# Question 3 (2 pt)"
      ]
    },
    {
      "cell_type": "markdown",
      "metadata": {
        "id": "bb0-kpn7uKHe"
      },
      "source": [
        "\n",
        "2. Take 3 numbers from user and print out the median.\n",
        "\n",
        "**Examples:**\n",
        "```\n",
        "First number: 12\n",
        "Second number: 15\n",
        "Third number: 14\n",
        "Median of the three number: 14\n",
        "```\n",
        "```\n",
        "First number: 15\n",
        "Second number: 5\n",
        "Third number: -5\n",
        "Median of the three number: 5\n",
        "```\n",
        "```\n",
        "First number: 15\n",
        "Second number: 5\n",
        "Third number: 25\n",
        "Median of the three number: 15\n",
        "```\n"
      ]
    },
    {
      "cell_type": "code",
      "source": [
        "num1 = int(input('First number: '))\n",
        "num2 = int(input('Second number: '))\n",
        "num3 = int(input('Third number: '))\n",
        "if num2 < num1 < num3 or num3 < num1 < num2 :\n",
        "  print('Median of the three number: ',num1)\n",
        "elif num3 < num2 < num1 or num1 < num2 < num3 :\n",
        "  print('Median of the three number: ',num2)\n",
        "else:\n",
        "  print('Median of the three number: ',num3)\n"
      ],
      "metadata": {
        "colab": {
          "base_uri": "https://localhost:8080/"
        },
        "id": "rnguZj3iT0rj",
        "outputId": "1579ffb9-0e62-4ff0-a97e-4736427828c3"
      },
      "execution_count": null,
      "outputs": [
        {
          "output_type": "stream",
          "name": "stdout",
          "text": [
            "First number: 15\n",
            "Second number: 5\n",
            "Third number: 25\n",
            "Median of the three number:  15\n"
          ]
        }
      ]
    },
    {
      "cell_type": "markdown",
      "metadata": {
        "id": "tMJDvlI2uSv0"
      },
      "source": [
        "# Question 4 (2 pt)"
      ]
    },
    {
      "cell_type": "markdown",
      "metadata": {
        "id": "3qJXWHb9uLW7"
      },
      "source": [
        "\n",
        "3. Write code to store spending record of a user via a credit card program and notify a user when a refund of 200 baht is received (a user will receive 200 baht refund when he/she spend 3 transactions with at least than 1,000 baht\n",
        "\n",
        "**Examples:**\n",
        "```\n",
        "Spending: 500\n",
        "==> Spending record: [500]\n",
        "==> Eligible transaction: 0\n",
        "```\n",
        "```\n",
        "Spending: 1200\n",
        "==> Spending record: [500, 1200]\n",
        "==> Eligible transaction: 1\n",
        "```\n",
        "```\n",
        "Spending: 900\n",
        "==> Spending record: [500, 1200,900]\n",
        "==> Eligible transaction: 1\n",
        "```\n",
        "```\n",
        "Spending: 1500\n",
        "==> Spending record: [500, 1200,900, 1500]\n",
        "==> Eligible transaction: 2\n",
        "```\n",
        "```\n",
        "Spending: 1000\n",
        "==> Spending record: [500, 1200,900, 1500,100\n",
        "==> Eligible transaction: 3\n",
        "==> Congratulation!! you have received 200 refund to your account\n",
        "```"
      ]
    },
    {
      "cell_type": "code",
      "source": [
        "Spend_list = []\n",
        "Eligible = 0\n",
        "Spend = int(input('Spending: '))\n",
        "if Spend >= 1000:\n",
        "  Eligible += 1\n",
        "  pass\n",
        "Spend_list.append(Spend)\n",
        "print('Spending record',Spend_list)\n",
        "print('Eligible transaction: ',Eligible)\n",
        "if Eligible >= 3:\n",
        "    print('Congratulation!! you have received 200 refund to your account')\n",
        "    pass\n",
        "Spend = int(input('Spending: '))\n",
        "if Spend >= 1000:\n",
        "  Eligible += 1\n",
        "  pass\n",
        "Spend_list.append(Spend)\n",
        "print('Spending record',Spend_list)\n",
        "print('Eligible transaction: ',Eligible)\n",
        "if Eligible >= 3:\n",
        "    print('Congratulation!! you have received 200 refund to your account')\n",
        "Spend = int(input('Spending: '))\n",
        "if Spend >= 1000:\n",
        "  Eligible += 1\n",
        "  pass\n",
        "Spend_list.append(Spend)\n",
        "print('Spending record',Spend_list)\n",
        "print('Eligible transaction: ',Eligible)\n",
        "if Eligible >= 3:\n",
        "    print('Congratulation!! you have received 200 refund to your account')\n",
        "Spend = int(input('Spending: '))\n",
        "if Spend >= 1000:\n",
        "  Eligible += 1\n",
        "  pass\n",
        "Spend_list.append(Spend)\n",
        "print('Spending record',Spend_list)\n",
        "print('Eligible transaction: ',Eligible)\n",
        "if Eligible >= 3:\n",
        "    print('Congratulation!! you have received 200 refund to your account')"
      ],
      "metadata": {
        "colab": {
          "base_uri": "https://localhost:8080/"
        },
        "id": "9bLs0bxsVLXN",
        "outputId": "005a47b9-c2bd-4120-c247-2c6c12fdaba7"
      },
      "execution_count": 34,
      "outputs": [
        {
          "output_type": "stream",
          "name": "stdout",
          "text": [
            "Spending: 1000\n",
            "Spending record [1000]\n",
            "Eligible transaction:  1\n",
            "Spending: 2000\n",
            "Spending record [1000, 2000]\n",
            "Eligible transaction:  2\n",
            "Spending: 1000\n",
            "Spending record [1000, 2000, 1000]\n",
            "Eligible transaction:  3\n",
            "Congratulation!! you have received 200 refund to your account\n",
            "Spending: 5000\n",
            "Spending record [1000, 2000, 1000, 5000]\n",
            "Eligible transaction:  4\n",
            "Congratulation!! you have received 200 refund to your account\n"
          ]
        }
      ]
    },
    {
      "cell_type": "markdown",
      "source": [
        "# Question 5 (4 pt)\n",
        "Write code that allow use to\n",
        "1. create account by providing new username and  password and insert the pair in user_dict\n",
        "  - print(‘account created successful’) if username is new\n",
        "  - print(‘username is already in used ’) otherwise\n",
        "\n",
        "2. login to the account by inputting the correct username and  password stored user_dict\n",
        "  - print(‘login successful’) if username and  password are correct\n",
        "\t- print(‘login fail’) otherwise\n",
        "3. update password by inputting the correct username and  password stored user_dict as well as the new password\n",
        "\t- print('password updated successful’) if username and  password are correct\n",
        "  - print(‘username and password does not match’) otherwise\n",
        "4. delete account by inputting the correct username and  password stored user_dict and delete the pair in user_dict\n",
        "\t- print('account deleted successful’) if username and  password are correct\n",
        "\t- print(‘username and password does not match’) otherwise\n",
        "*** print user_password_dict after each run of account creation, password update, and account deletion.\n"
      ],
      "metadata": {
        "id": "Qnln8Cr5qc5T"
      }
    },
    {
      "cell_type": "code",
      "source": [
        "user_password_dict = {'test':'1234'}\n",
        "print(user_password_dict)\n",
        "#check key exist\n",
        "print('check key exist')\n",
        "print('test key exist?','test' in user_password_dict)\n",
        "print('test1 key exist?','test1' in user_password_dict)"
      ],
      "metadata": {
        "colab": {
          "base_uri": "https://localhost:8080/"
        },
        "id": "2ZGeGRy-qy48",
        "outputId": "99195b3e-35be-43f8-bfb5-f517e565de77"
      },
      "execution_count": null,
      "outputs": [
        {
          "output_type": "stream",
          "name": "stdout",
          "text": [
            "{'test': '1234'}\n",
            "check key exist\n",
            "test key exist? True\n",
            "test1 key exist? False\n"
          ]
        }
      ]
    },
    {
      "cell_type": "code",
      "source": [
        "user_dict = {}"
      ],
      "metadata": {
        "id": "EvQaGiWe5Vbv"
      },
      "execution_count": 48,
      "outputs": []
    },
    {
      "cell_type": "code",
      "source": [
        "#create account\n",
        "user1,pass1 = input(('Enter Username and password: ')).split()\n",
        "if user1 in user_dict:\n",
        "  print(user_dict)\n",
        "  print('Username is already in used')\n",
        "else:\n",
        "  user_dict[user1] = pass1\n",
        "  print(user_dict)\n",
        "  print('Account created successful!')\n"
      ],
      "metadata": {
        "id": "xuS-OMYNq1FB",
        "colab": {
          "base_uri": "https://localhost:8080/"
        },
        "outputId": "9bd4f183-1e58-407c-f451-f78b8dd7a011"
      },
      "execution_count": 50,
      "outputs": [
        {
          "output_type": "stream",
          "name": "stdout",
          "text": [
            "Enter Username and password: test2 1112\n",
            "{'test1': '1111', 'test2': '1112'}\n",
            "Account created successful!\n"
          ]
        }
      ]
    },
    {
      "cell_type": "markdown",
      "source": [
        "```\n",
        "*********Account creation*********\n",
        "Enter Username and password: test, 1234\n",
        "{'test': '1234'}\n",
        "==> Account created successful!\n",
        "```\n",
        "```\n",
        "*********Account creation*********\n",
        "Enter Username and password: test1, 5678\n",
        "{'test': '1234','test1': '5678'}\n",
        "==> Account created successful!\n",
        "```\n",
        "```\n",
        "*********Account creation*********\n",
        "Enter Username and password: test1, aaaa\n",
        "{'test': '1234','test1': '5678'}\n",
        "==> Username is already in used\n",
        "```"
      ],
      "metadata": {
        "id": "kxN2EI1Yq4QS"
      }
    },
    {
      "cell_type": "code",
      "source": [
        "#login account\n",
        "username,password = input(('Enter Username and password: ')).split()\n",
        "if password == user_dict[username]:\n",
        "  print('Login successful!')\n",
        "else :\n",
        "  print('Login Failed!')"
      ],
      "metadata": {
        "id": "k9nKRSpQq3xb",
        "colab": {
          "base_uri": "https://localhost:8080/"
        },
        "outputId": "8b8284a9-3ebb-471a-b24a-77f43e3a3729"
      },
      "execution_count": 52,
      "outputs": [
        {
          "output_type": "stream",
          "name": "stdout",
          "text": [
            "Enter Username and password: test2 1111\n",
            "Login Failed!\n"
          ]
        }
      ]
    },
    {
      "cell_type": "markdown",
      "source": [
        "```\n",
        "*********Account login*********\n",
        "Enter Username and password: test1, 5678\n",
        "\n",
        "==> Login successful!\n",
        "```\n",
        "\n",
        "```\n",
        "*********Account login*********\n",
        "Enter Username and password: test, 5678\n",
        "\n",
        "==> Login fail!!!\n",
        "```"
      ],
      "metadata": {
        "id": "mX8Ga8hUrzWm"
      }
    },
    {
      "cell_type": "code",
      "source": [
        "\n",
        "#update password\n",
        "username,password = input(('Enter Username and password: ')).split()\n",
        "if password == user_dict[username]:\n",
        "  new_pass = input(('Enter new password: '))\n",
        "  user_dict.update({username: new_pass})\n",
        "  print(user_dict)\n",
        "  print('password updated successfull')\n",
        "else :\n",
        "  print('username and password does not match')"
      ],
      "metadata": {
        "id": "REO63znTsV5U",
        "colab": {
          "base_uri": "https://localhost:8080/"
        },
        "outputId": "e6eef4a6-684e-4d36-8167-2b516d5549a3"
      },
      "execution_count": 47,
      "outputs": [
        {
          "output_type": "stream",
          "name": "stdout",
          "text": [
            "Enter Username and password: test1 1111\n",
            "{'test1': '1111'}\n",
            "Account created successful!\n",
            "Enter Username and password: test2 2222\n",
            "{'test1': '1111', 'test2': '2222'}\n",
            "Account created successful!\n",
            "Enter Username and password: test3 3333\n",
            "{'test1': '1111', 'test2': '2222', 'test3': '3333'}\n",
            "Account created successful!\n",
            "Enter Username and password: test3 3333\n",
            "Enter new password: aaaa\n",
            "{'test1': '1111', 'test2': '2222', 'test3': 'aaaa'}\n",
            "password updated successfull\n"
          ]
        }
      ]
    },
    {
      "cell_type": "markdown",
      "source": [
        "```\n",
        "*********Update password*********\n",
        "Enter Username and password: test1, 5678\n",
        "Enter new password: aaaa\n",
        "{'test': '1234','test1': 'aaaa'}\n",
        "==> password updated successful\n",
        "```\n",
        "```\n",
        "*********Update password*********\n",
        "Enter Username and password: test1, aaab\n",
        "==> username and password does not match\n",
        "```"
      ],
      "metadata": {
        "id": "lQK_qErwsuDK"
      }
    },
    {
      "cell_type": "code",
      "source": [
        "#delete account\n",
        "username,password = input('enter username and password: ').split()\n",
        "if username in user_dict:\n",
        "  del user_dict[username]\n",
        "  print(user_dict)\n",
        "  print('Account deleted!')\n",
        "  pass"
      ],
      "metadata": {
        "id": "K7vb0epDtYv_",
        "colab": {
          "base_uri": "https://localhost:8080/"
        },
        "outputId": "7e9fb064-81db-42f1-dd2b-63bb3e84dd1d"
      },
      "execution_count": 53,
      "outputs": [
        {
          "output_type": "stream",
          "name": "stdout",
          "text": [
            "enter username and password: test2 1112\n",
            "{'test1': '1111'}\n",
            "Account deleted!\n"
          ]
        }
      ]
    },
    {
      "cell_type": "markdown",
      "source": [
        "```\n",
        "*********Delete account*********\n",
        "Enter Username and password: test, 1234\n",
        "{'test1': 'aaaa'}\n",
        "==> Account deleted!\n",
        "```\n",
        "```\n",
        "*********Update password*********\n",
        "Enter Username and password: test1, aaab\n",
        "==> Username and password does not match\n",
        "```"
      ],
      "metadata": {
        "id": "qwh_8MyVtf9k"
      }
    }
  ]
}